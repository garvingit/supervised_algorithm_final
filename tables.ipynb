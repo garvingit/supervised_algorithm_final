{
 "cells": [
  {
   "cell_type": "code",
   "execution_count": 1,
   "metadata": {},
   "outputs": [
    {
     "name": "stdout",
     "output_type": "stream",
     "text": [
      "Normal Set\n",
      "{'c', 'a', 'b'}\n"
     ]
    }
   ],
   "source": [
    "normal_set = set([\"a\", \"b\",\"c\"]) \n",
    "  \n",
    "print(\"Normal Set\") \n",
    "print(normal_set) \n"
   ]
  },
  {
   "cell_type": "code",
   "execution_count": 30,
   "metadata": {},
   "outputs": [
    {
     "name": "stdout",
     "output_type": "stream",
     "text": [
      "[  1   2   2   2   3   3   4   5   6   7   9  11  14  17  21  25  31  39\n",
      "  48  59  73  91 112 139 172 213 264 327 405 502]\n"
     ]
    }
   ],
   "source": [
    "import numpy as np\n",
    "print(np.ceil(np.logspace(0, 2.7, 30)).astype(int))"
   ]
  },
  {
   "cell_type": "code",
   "execution_count": null,
   "metadata": {},
   "outputs": [],
   "source": [
    "    TRIALS = 5#DOING 5 TRIALS\n",
    "    acc_scores = []#saving the accuracy for each trial on test set\n",
    "    auc_scores = []#saving the roc auc for each trial on test set\n",
    "    f1_scores = []#saving the f1 score for each trial on test set\n",
    "    \n",
    "    for i in range(TRIALS):\n",
    "        #sampling 5000 training size for k-fold\n",
    "        X_train, X_test, y_train, y_test = train_test_split(X, y, train_size=5000)\n",
    "        best_model = clf.fit(X_train, y_train)\n",
    "\n",
    "        #top 3 best params model parameters\n",
    "        model_acc = best_model.cv_results_['params'][np.argmin(best_model.cv_results_['rank_test_accuracy'])]\n",
    "        model_auc = best_model.cv_results_['params'][np.argmin(best_model.cv_results_['rank_test_roc_auc_ovr'])]\n",
    "        model_f1 = best_model.cv_results_['params'][np.argmin(best_model.cv_results_['rank_test_f1_micro'])]\n",
    "\n",
    "        model_params = [model_acc, model_auc, model_f1]\n",
    "\n",
    "        #gets the scores for each model and append them to corresponding array\n",
    "        for index, params in enumerate(model_params):\n",
    "            k = params['n_neighbors']\n",
    "            weight = params['weights']\n",
    "\n",
    "            #training best models on validation set\n",
    "            KNN_model = KNeighborsClassifier()\n",
    "            KNN_model.set_params(n_neighbors=k, weights=weight)\n",
    "            KNN_model.fit(X_train, y_train)#training on 5000 points\n",
    "\n",
    "            #model == model_acc\n",
    "            if index == 0:\n",
    "                score = KNN_model.score(X_test, y_test)\n",
    "                acc_scores.append(score)\n",
    "            \n",
    "            #model_auc\n",
    "            elif index == 1:\n",
    "                roc_score = roc_auc_score(y_test, KNN_model.predict_proba(X_test)[:, 1])\n",
    "                auc_scores.append(roc_score)\n",
    "\n",
    "            #appending to f1\n",
    "            else:\n",
    "                y_predict = KNN_model.predict(X_test)#predictions on test set\n",
    "                f_score = f1_score(y_test, y_predict)\n",
    "                f1_scores.append(f_score)\n",
    "    \n",
    "    return acc_scores, auc_scores, f1_scores"
   ]
  }
 ],
 "metadata": {
  "kernelspec": {
   "display_name": "Python 3",
   "language": "python",
   "name": "python3"
  },
  "language_info": {
   "codemirror_mode": {
    "name": "ipython",
    "version": 3
   },
   "file_extension": ".py",
   "mimetype": "text/x-python",
   "name": "python",
   "nbconvert_exporter": "python",
   "pygments_lexer": "ipython3",
   "version": "3.8.5"
  }
 },
 "nbformat": 4,
 "nbformat_minor": 4
}
