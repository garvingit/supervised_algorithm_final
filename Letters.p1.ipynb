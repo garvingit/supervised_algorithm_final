{
 "cells": [
  {
   "cell_type": "code",
   "execution_count": 1,
   "metadata": {},
   "outputs": [],
   "source": [
    "import pandas as pd\n",
    "import numpy as np\n",
    "\n",
    "from sklearn.preprocessing import StandardScaler, OneHotEncoder, LabelEncoder\n",
    "from sklearn.compose import ColumnTransformer\n",
    "from sklearn.pipeline import Pipeline\n",
    "from sklearn.model_selection import train_test_split, GridSearchCV\n",
    "from sklearn.metrics import roc_auc_score\n",
    "from sklearn.metrics import f1_score\n",
    "from sklearn.model_selection import StratifiedKFold\n",
    "\n",
    "#classifiers\n",
    "from sklearn.neighbors import KNeighborsClassifier\n",
    "from sklearn.linear_model import LogisticRegression\n",
    "from sklearn.ensemble import RandomForestClassifier\n",
    "\n",
    "import matplotlib.pyplot as plt\n",
    "import seaborn as sns; sns.set_style('white')  # plot formatting"
   ]
  },
  {
   "cell_type": "markdown",
   "metadata": {},
   "source": [
    "I will use one variation of the dataset used in caruana\\\n",
    "Letters that are \"O\" will be treated as positive class, very unbalanced data, we will see how our algorithms perform"
   ]
  },
  {
   "cell_type": "markdown",
   "metadata": {},
   "source": [
    "# Loading in dataset"
   ]
  },
  {
   "cell_type": "code",
   "execution_count": 2,
   "metadata": {},
   "outputs": [
    {
     "data": {
      "text/html": [
       "<div>\n",
       "<style scoped>\n",
       "    .dataframe tbody tr th:only-of-type {\n",
       "        vertical-align: middle;\n",
       "    }\n",
       "\n",
       "    .dataframe tbody tr th {\n",
       "        vertical-align: top;\n",
       "    }\n",
       "\n",
       "    .dataframe thead th {\n",
       "        text-align: right;\n",
       "    }\n",
       "</style>\n",
       "<table border=\"1\" class=\"dataframe\">\n",
       "  <thead>\n",
       "    <tr style=\"text-align: right;\">\n",
       "      <th></th>\n",
       "      <th>letter</th>\n",
       "      <th>xbox</th>\n",
       "      <th>ybox</th>\n",
       "      <th>width</th>\n",
       "      <th>height</th>\n",
       "      <th>onpix</th>\n",
       "      <th>xbar</th>\n",
       "      <th>ybar</th>\n",
       "      <th>x2bar</th>\n",
       "      <th>y2bar</th>\n",
       "      <th>xybar</th>\n",
       "      <th>x2ybar</th>\n",
       "      <th>xy2bar</th>\n",
       "      <th>xedge</th>\n",
       "      <th>xedgey</th>\n",
       "      <th>yedge</th>\n",
       "      <th>yedgex</th>\n",
       "    </tr>\n",
       "  </thead>\n",
       "  <tbody>\n",
       "    <tr>\n",
       "      <th>0</th>\n",
       "      <td>I</td>\n",
       "      <td>5</td>\n",
       "      <td>12</td>\n",
       "      <td>3</td>\n",
       "      <td>7</td>\n",
       "      <td>2</td>\n",
       "      <td>10</td>\n",
       "      <td>5</td>\n",
       "      <td>5</td>\n",
       "      <td>4</td>\n",
       "      <td>13</td>\n",
       "      <td>3</td>\n",
       "      <td>9</td>\n",
       "      <td>2</td>\n",
       "      <td>8</td>\n",
       "      <td>4</td>\n",
       "      <td>10</td>\n",
       "    </tr>\n",
       "    <tr>\n",
       "      <th>1</th>\n",
       "      <td>D</td>\n",
       "      <td>4</td>\n",
       "      <td>11</td>\n",
       "      <td>6</td>\n",
       "      <td>8</td>\n",
       "      <td>6</td>\n",
       "      <td>10</td>\n",
       "      <td>6</td>\n",
       "      <td>2</td>\n",
       "      <td>6</td>\n",
       "      <td>10</td>\n",
       "      <td>3</td>\n",
       "      <td>7</td>\n",
       "      <td>3</td>\n",
       "      <td>7</td>\n",
       "      <td>3</td>\n",
       "      <td>9</td>\n",
       "    </tr>\n",
       "    <tr>\n",
       "      <th>2</th>\n",
       "      <td>N</td>\n",
       "      <td>7</td>\n",
       "      <td>11</td>\n",
       "      <td>6</td>\n",
       "      <td>6</td>\n",
       "      <td>3</td>\n",
       "      <td>5</td>\n",
       "      <td>9</td>\n",
       "      <td>4</td>\n",
       "      <td>6</td>\n",
       "      <td>4</td>\n",
       "      <td>4</td>\n",
       "      <td>10</td>\n",
       "      <td>6</td>\n",
       "      <td>10</td>\n",
       "      <td>2</td>\n",
       "      <td>8</td>\n",
       "    </tr>\n",
       "    <tr>\n",
       "      <th>3</th>\n",
       "      <td>G</td>\n",
       "      <td>2</td>\n",
       "      <td>1</td>\n",
       "      <td>3</td>\n",
       "      <td>1</td>\n",
       "      <td>1</td>\n",
       "      <td>8</td>\n",
       "      <td>6</td>\n",
       "      <td>6</td>\n",
       "      <td>6</td>\n",
       "      <td>6</td>\n",
       "      <td>5</td>\n",
       "      <td>9</td>\n",
       "      <td>1</td>\n",
       "      <td>7</td>\n",
       "      <td>5</td>\n",
       "      <td>10</td>\n",
       "    </tr>\n",
       "    <tr>\n",
       "      <th>4</th>\n",
       "      <td>S</td>\n",
       "      <td>4</td>\n",
       "      <td>11</td>\n",
       "      <td>5</td>\n",
       "      <td>8</td>\n",
       "      <td>3</td>\n",
       "      <td>8</td>\n",
       "      <td>8</td>\n",
       "      <td>6</td>\n",
       "      <td>9</td>\n",
       "      <td>5</td>\n",
       "      <td>6</td>\n",
       "      <td>6</td>\n",
       "      <td>0</td>\n",
       "      <td>8</td>\n",
       "      <td>9</td>\n",
       "      <td>7</td>\n",
       "    </tr>\n",
       "  </tbody>\n",
       "</table>\n",
       "</div>"
      ],
      "text/plain": [
       "  letter  xbox  ybox  width  height  onpix  xbar  ybar  x2bar  y2bar  xybar  \\\n",
       "0      I     5    12      3       7      2    10     5      5      4     13   \n",
       "1      D     4    11      6       8      6    10     6      2      6     10   \n",
       "2      N     7    11      6       6      3     5     9      4      6      4   \n",
       "3      G     2     1      3       1      1     8     6      6      6      6   \n",
       "4      S     4    11      5       8      3     8     8      6      9      5   \n",
       "\n",
       "   x2ybar  xy2bar  xedge  xedgey  yedge  yedgex  \n",
       "0       3       9      2       8      4      10  \n",
       "1       3       7      3       7      3       9  \n",
       "2       4      10      6      10      2       8  \n",
       "3       5       9      1       7      5      10  \n",
       "4       6       6      0       8      9       7  "
      ]
     },
     "execution_count": 2,
     "metadata": {},
     "output_type": "execute_result"
    }
   ],
   "source": [
    "column_names=[\"letter\", \"xbox\", \"ybox\", \"width\", \"height\", \"onpix\",\n",
    "             \"xbar\", \"ybar\", \"x2bar\", \"y2bar\", \"xybar\", \"x2ybar\", \"xy2bar\",\n",
    "             \"xedge\", \"xedgey\", \"yedge\", \"yedgex\"]\n",
    "df = pd.read_csv(\"datasets/letter-recognition.data\", header=0, names=column_names, index_col=False)\n",
    "df.head()"
   ]
  },
  {
   "cell_type": "code",
   "execution_count": 3,
   "metadata": {},
   "outputs": [
    {
     "data": {
      "text/plain": [
       "(19999, 17)"
      ]
     },
     "execution_count": 3,
     "metadata": {},
     "output_type": "execute_result"
    }
   ],
   "source": [
    "df.shape"
   ]
  },
  {
   "cell_type": "code",
   "execution_count": 4,
   "metadata": {},
   "outputs": [
    {
     "data": {
      "text/plain": [
       "letter    0\n",
       "xbox      0\n",
       "ybox      0\n",
       "width     0\n",
       "height    0\n",
       "onpix     0\n",
       "xbar      0\n",
       "ybar      0\n",
       "x2bar     0\n",
       "y2bar     0\n",
       "xybar     0\n",
       "x2ybar    0\n",
       "xy2bar    0\n",
       "xedge     0\n",
       "xedgey    0\n",
       "yedge     0\n",
       "yedgex    0\n",
       "dtype: int64"
      ]
     },
     "execution_count": 4,
     "metadata": {},
     "output_type": "execute_result"
    }
   ],
   "source": [
    "df.isnull().sum()"
   ]
  },
  {
   "cell_type": "code",
   "execution_count": 5,
   "metadata": {},
   "outputs": [
    {
     "name": "stdout",
     "output_type": "stream",
     "text": [
      "<class 'pandas.core.frame.DataFrame'>\n",
      "RangeIndex: 19999 entries, 0 to 19998\n",
      "Data columns (total 17 columns):\n",
      " #   Column  Non-Null Count  Dtype \n",
      "---  ------  --------------  ----- \n",
      " 0   letter  19999 non-null  object\n",
      " 1   xbox    19999 non-null  int64 \n",
      " 2   ybox    19999 non-null  int64 \n",
      " 3   width   19999 non-null  int64 \n",
      " 4   height  19999 non-null  int64 \n",
      " 5   onpix   19999 non-null  int64 \n",
      " 6   xbar    19999 non-null  int64 \n",
      " 7   ybar    19999 non-null  int64 \n",
      " 8   x2bar   19999 non-null  int64 \n",
      " 9   y2bar   19999 non-null  int64 \n",
      " 10  xybar   19999 non-null  int64 \n",
      " 11  x2ybar  19999 non-null  int64 \n",
      " 12  xy2bar  19999 non-null  int64 \n",
      " 13  xedge   19999 non-null  int64 \n",
      " 14  xedgey  19999 non-null  int64 \n",
      " 15  yedge   19999 non-null  int64 \n",
      " 16  yedgex  19999 non-null  int64 \n",
      "dtypes: int64(16), object(1)\n",
      "memory usage: 2.6+ MB\n"
     ]
    }
   ],
   "source": [
    "df.info()"
   ]
  },
  {
   "cell_type": "code",
   "execution_count": 6,
   "metadata": {},
   "outputs": [
    {
     "data": {
      "text/html": [
       "<div>\n",
       "<style scoped>\n",
       "    .dataframe tbody tr th:only-of-type {\n",
       "        vertical-align: middle;\n",
       "    }\n",
       "\n",
       "    .dataframe tbody tr th {\n",
       "        vertical-align: top;\n",
       "    }\n",
       "\n",
       "    .dataframe thead th {\n",
       "        text-align: right;\n",
       "    }\n",
       "</style>\n",
       "<table border=\"1\" class=\"dataframe\">\n",
       "  <thead>\n",
       "    <tr style=\"text-align: right;\">\n",
       "      <th></th>\n",
       "      <th>xbox</th>\n",
       "      <th>ybox</th>\n",
       "      <th>width</th>\n",
       "      <th>height</th>\n",
       "      <th>onpix</th>\n",
       "      <th>xbar</th>\n",
       "      <th>ybar</th>\n",
       "      <th>x2bar</th>\n",
       "      <th>y2bar</th>\n",
       "      <th>xybar</th>\n",
       "      <th>x2ybar</th>\n",
       "      <th>xy2bar</th>\n",
       "      <th>xedge</th>\n",
       "      <th>xedgey</th>\n",
       "      <th>yedge</th>\n",
       "      <th>yedgex</th>\n",
       "    </tr>\n",
       "  </thead>\n",
       "  <tbody>\n",
       "    <tr>\n",
       "      <th>count</th>\n",
       "      <td>19999.000000</td>\n",
       "      <td>19999.000000</td>\n",
       "      <td>19999.000000</td>\n",
       "      <td>19999.000000</td>\n",
       "      <td>19999.000000</td>\n",
       "      <td>19999.000000</td>\n",
       "      <td>19999.000000</td>\n",
       "      <td>19999.000000</td>\n",
       "      <td>19999.000000</td>\n",
       "      <td>19999.000000</td>\n",
       "      <td>19999.000000</td>\n",
       "      <td>19999.000000</td>\n",
       "      <td>19999.000000</td>\n",
       "      <td>19999.000000</td>\n",
       "      <td>19999.000000</td>\n",
       "      <td>19999.00000</td>\n",
       "    </tr>\n",
       "    <tr>\n",
       "      <th>mean</th>\n",
       "      <td>4.023651</td>\n",
       "      <td>7.035452</td>\n",
       "      <td>5.121956</td>\n",
       "      <td>5.372469</td>\n",
       "      <td>3.505975</td>\n",
       "      <td>6.897545</td>\n",
       "      <td>7.500175</td>\n",
       "      <td>4.628831</td>\n",
       "      <td>5.178609</td>\n",
       "      <td>8.282164</td>\n",
       "      <td>6.453823</td>\n",
       "      <td>7.928996</td>\n",
       "      <td>3.046252</td>\n",
       "      <td>8.338867</td>\n",
       "      <td>3.691935</td>\n",
       "      <td>7.80119</td>\n",
       "    </tr>\n",
       "    <tr>\n",
       "      <th>std</th>\n",
       "      <td>1.913206</td>\n",
       "      <td>3.304631</td>\n",
       "      <td>2.014568</td>\n",
       "      <td>2.261445</td>\n",
       "      <td>2.190441</td>\n",
       "      <td>2.026071</td>\n",
       "      <td>2.325087</td>\n",
       "      <td>2.699837</td>\n",
       "      <td>2.380875</td>\n",
       "      <td>2.488485</td>\n",
       "      <td>2.631016</td>\n",
       "      <td>2.080671</td>\n",
       "      <td>2.332500</td>\n",
       "      <td>1.546759</td>\n",
       "      <td>2.567004</td>\n",
       "      <td>1.61751</td>\n",
       "    </tr>\n",
       "    <tr>\n",
       "      <th>min</th>\n",
       "      <td>0.000000</td>\n",
       "      <td>0.000000</td>\n",
       "      <td>0.000000</td>\n",
       "      <td>0.000000</td>\n",
       "      <td>0.000000</td>\n",
       "      <td>0.000000</td>\n",
       "      <td>0.000000</td>\n",
       "      <td>0.000000</td>\n",
       "      <td>0.000000</td>\n",
       "      <td>0.000000</td>\n",
       "      <td>0.000000</td>\n",
       "      <td>0.000000</td>\n",
       "      <td>0.000000</td>\n",
       "      <td>0.000000</td>\n",
       "      <td>0.000000</td>\n",
       "      <td>0.00000</td>\n",
       "    </tr>\n",
       "    <tr>\n",
       "      <th>25%</th>\n",
       "      <td>3.000000</td>\n",
       "      <td>5.000000</td>\n",
       "      <td>4.000000</td>\n",
       "      <td>4.000000</td>\n",
       "      <td>2.000000</td>\n",
       "      <td>6.000000</td>\n",
       "      <td>6.000000</td>\n",
       "      <td>3.000000</td>\n",
       "      <td>4.000000</td>\n",
       "      <td>7.000000</td>\n",
       "      <td>5.000000</td>\n",
       "      <td>7.000000</td>\n",
       "      <td>1.000000</td>\n",
       "      <td>8.000000</td>\n",
       "      <td>2.000000</td>\n",
       "      <td>7.00000</td>\n",
       "    </tr>\n",
       "    <tr>\n",
       "      <th>50%</th>\n",
       "      <td>4.000000</td>\n",
       "      <td>7.000000</td>\n",
       "      <td>5.000000</td>\n",
       "      <td>6.000000</td>\n",
       "      <td>3.000000</td>\n",
       "      <td>7.000000</td>\n",
       "      <td>7.000000</td>\n",
       "      <td>4.000000</td>\n",
       "      <td>5.000000</td>\n",
       "      <td>8.000000</td>\n",
       "      <td>6.000000</td>\n",
       "      <td>8.000000</td>\n",
       "      <td>3.000000</td>\n",
       "      <td>8.000000</td>\n",
       "      <td>3.000000</td>\n",
       "      <td>8.00000</td>\n",
       "    </tr>\n",
       "    <tr>\n",
       "      <th>75%</th>\n",
       "      <td>5.000000</td>\n",
       "      <td>9.000000</td>\n",
       "      <td>6.000000</td>\n",
       "      <td>7.000000</td>\n",
       "      <td>5.000000</td>\n",
       "      <td>8.000000</td>\n",
       "      <td>9.000000</td>\n",
       "      <td>6.000000</td>\n",
       "      <td>7.000000</td>\n",
       "      <td>10.000000</td>\n",
       "      <td>8.000000</td>\n",
       "      <td>9.000000</td>\n",
       "      <td>4.000000</td>\n",
       "      <td>9.000000</td>\n",
       "      <td>5.000000</td>\n",
       "      <td>9.00000</td>\n",
       "    </tr>\n",
       "    <tr>\n",
       "      <th>max</th>\n",
       "      <td>15.000000</td>\n",
       "      <td>15.000000</td>\n",
       "      <td>15.000000</td>\n",
       "      <td>15.000000</td>\n",
       "      <td>15.000000</td>\n",
       "      <td>15.000000</td>\n",
       "      <td>15.000000</td>\n",
       "      <td>15.000000</td>\n",
       "      <td>15.000000</td>\n",
       "      <td>15.000000</td>\n",
       "      <td>15.000000</td>\n",
       "      <td>15.000000</td>\n",
       "      <td>15.000000</td>\n",
       "      <td>15.000000</td>\n",
       "      <td>15.000000</td>\n",
       "      <td>15.00000</td>\n",
       "    </tr>\n",
       "  </tbody>\n",
       "</table>\n",
       "</div>"
      ],
      "text/plain": [
       "               xbox          ybox         width        height         onpix  \\\n",
       "count  19999.000000  19999.000000  19999.000000  19999.000000  19999.000000   \n",
       "mean       4.023651      7.035452      5.121956      5.372469      3.505975   \n",
       "std        1.913206      3.304631      2.014568      2.261445      2.190441   \n",
       "min        0.000000      0.000000      0.000000      0.000000      0.000000   \n",
       "25%        3.000000      5.000000      4.000000      4.000000      2.000000   \n",
       "50%        4.000000      7.000000      5.000000      6.000000      3.000000   \n",
       "75%        5.000000      9.000000      6.000000      7.000000      5.000000   \n",
       "max       15.000000     15.000000     15.000000     15.000000     15.000000   \n",
       "\n",
       "               xbar          ybar         x2bar         y2bar         xybar  \\\n",
       "count  19999.000000  19999.000000  19999.000000  19999.000000  19999.000000   \n",
       "mean       6.897545      7.500175      4.628831      5.178609      8.282164   \n",
       "std        2.026071      2.325087      2.699837      2.380875      2.488485   \n",
       "min        0.000000      0.000000      0.000000      0.000000      0.000000   \n",
       "25%        6.000000      6.000000      3.000000      4.000000      7.000000   \n",
       "50%        7.000000      7.000000      4.000000      5.000000      8.000000   \n",
       "75%        8.000000      9.000000      6.000000      7.000000     10.000000   \n",
       "max       15.000000     15.000000     15.000000     15.000000     15.000000   \n",
       "\n",
       "             x2ybar        xy2bar         xedge        xedgey         yedge  \\\n",
       "count  19999.000000  19999.000000  19999.000000  19999.000000  19999.000000   \n",
       "mean       6.453823      7.928996      3.046252      8.338867      3.691935   \n",
       "std        2.631016      2.080671      2.332500      1.546759      2.567004   \n",
       "min        0.000000      0.000000      0.000000      0.000000      0.000000   \n",
       "25%        5.000000      7.000000      1.000000      8.000000      2.000000   \n",
       "50%        6.000000      8.000000      3.000000      8.000000      3.000000   \n",
       "75%        8.000000      9.000000      4.000000      9.000000      5.000000   \n",
       "max       15.000000     15.000000     15.000000     15.000000     15.000000   \n",
       "\n",
       "            yedgex  \n",
       "count  19999.00000  \n",
       "mean       7.80119  \n",
       "std        1.61751  \n",
       "min        0.00000  \n",
       "25%        7.00000  \n",
       "50%        8.00000  \n",
       "75%        9.00000  \n",
       "max       15.00000  "
      ]
     },
     "execution_count": 6,
     "metadata": {},
     "output_type": "execute_result"
    }
   ],
   "source": [
    "df.describe()"
   ]
  },
  {
   "cell_type": "code",
   "execution_count": 7,
   "metadata": {},
   "outputs": [
    {
     "data": {
      "text/plain": [
       "U    813\n",
       "D    805\n",
       "P    803\n",
       "T    795\n",
       "M    792\n",
       "A    789\n",
       "X    787\n",
       "Y    786\n",
       "Q    783\n",
       "N    783\n",
       "F    775\n",
       "G    773\n",
       "E    768\n",
       "B    766\n",
       "V    764\n",
       "L    761\n",
       "R    758\n",
       "I    755\n",
       "O    753\n",
       "W    752\n",
       "S    748\n",
       "J    747\n",
       "K    739\n",
       "C    736\n",
       "Z    734\n",
       "H    734\n",
       "Name: letter, dtype: int64"
      ]
     },
     "execution_count": 7,
     "metadata": {},
     "output_type": "execute_result"
    }
   ],
   "source": [
    "df['letter'].value_counts()"
   ]
  },
  {
   "cell_type": "code",
   "execution_count": 8,
   "metadata": {},
   "outputs": [],
   "source": [
    "def standarizeLetter(letter):\n",
    "    \"\"\"\n",
    "    makes letters \"O\" positive\n",
    "    \"\"\"\n",
    "    if letter == 'O':\n",
    "        return 1\n",
    "    else:\n",
    "        return -1\n",
    "    \n",
    "df['letter'] = df['letter'].apply(standarizeLetter)"
   ]
  },
  {
   "cell_type": "code",
   "execution_count": 9,
   "metadata": {},
   "outputs": [
    {
     "data": {
      "text/plain": [
       "-1    19246\n",
       " 1      753\n",
       "Name: letter, dtype: int64"
      ]
     },
     "execution_count": 9,
     "metadata": {},
     "output_type": "execute_result"
    }
   ],
   "source": [
    "df['letter'].value_counts()"
   ]
  },
  {
   "cell_type": "code",
   "execution_count": 10,
   "metadata": {},
   "outputs": [],
   "source": [
    "X = df.drop(['letter'], axis=1)\n",
    "y = df['letter']"
   ]
  },
  {
   "cell_type": "markdown",
   "metadata": {},
   "source": [
    "# Algorithm 1: Logistic Regression"
   ]
  },
  {
   "cell_type": "code",
   "execution_count": 11,
   "metadata": {},
   "outputs": [],
   "source": [
    "def LG_model(X, y):\n",
    "    '''returns the scores of each trial'''\n",
    "    \n",
    "    pipe = Pipeline(steps=[('classifier', LogisticRegression())])\n",
    "\n",
    "    search_space = [{'classifier': [LogisticRegression(max_iter=5000)],\n",
    "                     'classifier__solver': ['saga'],\n",
    "                     'classifier__penalty': ['l1', 'l2'],\n",
    "                     'classifier__C': np.logspace(-8, 4, 13)},\n",
    "                    {'classifier': [LogisticRegression(max_iter=5000)],\n",
    "                     'classifier__solver': ['lbfgs'],\n",
    "                     'classifier__penalty': ['l2'],\n",
    "                     'classifier__C': np.logspace(-8, 4, 13)},\n",
    "                    {'classifier': [LogisticRegression(max_iter=5000)],\n",
    "                     'classifier__solver': ['lbfgs','saga'],\n",
    "                     'classifier__penalty': ['none']}\n",
    "                    ]\n",
    "    \n",
    "    TRIALS = 5#DOING 5 TRIALS\n",
    "    log_test_acc = []#saving the accuracy for each logistic regression trial on test set\n",
    "    log_test_auc = []#saving the roc auc for each logistic regression trial on test set\n",
    "    log_test_f1 = []#saving the f1 score for each logistic regression trial on test set\n",
    "    train_acc = []\n",
    "    train_auc = []\n",
    "    train_f1 = []\n",
    "\n",
    "    for i in range(TRIALS):\n",
    "        #sampling 5000 training size for k-fold\n",
    "        X_train, X_test, y_train, y_test = train_test_split(X, y, train_size=5000)\n",
    "        \n",
    "        # Create grid search |\n",
    "        clf = GridSearchCV(pipe, search_space, cv=StratifiedKFold(n_splits=5), \n",
    "                       scoring=['accuracy', 'roc_auc', 'f1'], refit=False,\n",
    "                       verbose=1, n_jobs=-1)\n",
    "        best_model = clf.fit(X_train, y_train)\n",
    "\n",
    "        #top 3 best params model parameters\n",
    "        model_acc = best_model.cv_results_['params'][np.argmin(best_model.cv_results_['rank_test_accuracy'])]\n",
    "        model_auc = best_model.cv_results_['params'][np.argmin(best_model.cv_results_['rank_test_roc_auc'])]\n",
    "        model_f1 = best_model.cv_results_['params'][np.argmin(best_model.cv_results_['rank_test_f1'])]\n",
    "\n",
    "        model_params = [model_acc, model_auc, model_f1]\n",
    "\n",
    "        #gets the scores for each model and append them to corresponding array\n",
    "        for index, params in enumerate(model_params):\n",
    "            C = 0\n",
    "            try:\n",
    "                C = params['classifier__C']\n",
    "            except KeyError:\n",
    "               pass\n",
    "\n",
    "            solver = params['classifier__solver']\n",
    "            penalty = params['classifier__penalty']\n",
    "\n",
    "            #training best models on validation set\n",
    "            logit_model = LogisticRegression(max_iter=5000)\n",
    "            logit_model.set_params(C=C, solver=solver, penalty=penalty)\n",
    "            logit_model.fit(X_train, y_train) \n",
    "\n",
    "            #get roc_auc, acc and f1 scores on test set\n",
    "            if index == 0:\n",
    "                score = logit_model.score(X_test, y_test)\n",
    "                log_test_acc.append(score)\n",
    "                train_score = logit_model.score(X_train, y_train)\n",
    "                train_acc.append(train_score)\n",
    "\n",
    "            elif index == 1:\n",
    "                roc_score = roc_auc_score(y_test, logit_model.predict_proba(X_test)[:, 1])\n",
    "                log_test_auc.append(roc_score)\n",
    "                train_roc = roc_auc_score(y_train, logit_model.predict_proba(X_train)[:, 1])\n",
    "                train_auc.append(train_roc)\n",
    "\n",
    "            #appending to f1\n",
    "            else:\n",
    "                y_predict = logit_model.predict(X_test)#predictions on test set\n",
    "                f_score = f1_score(y_test, y_predict)\n",
    "                log_test_f1.append(f_score)\n",
    "                f_train = f1_score(y_train, logit_model.predict(X_train))\n",
    "                train_f1.append(f_train)\n",
    "    \n",
    "    return log_test_acc, log_test_auc, log_test_f1, train_acc, train_auc, train_f1"
   ]
  },
  {
   "cell_type": "code",
   "execution_count": 12,
   "metadata": {},
   "outputs": [
    {
     "name": "stdout",
     "output_type": "stream",
     "text": [
      "Fitting 5 folds for each of 41 candidates, totalling 205 fits\n"
     ]
    },
    {
     "name": "stderr",
     "output_type": "stream",
     "text": [
      "[Parallel(n_jobs=-1)]: Using backend LokyBackend with 8 concurrent workers.\n",
      "[Parallel(n_jobs=-1)]: Done  34 tasks      | elapsed:    2.2s\n",
      "[Parallel(n_jobs=-1)]: Done 190 out of 205 | elapsed:   13.1s remaining:    1.0s\n",
      "[Parallel(n_jobs=-1)]: Done 205 out of 205 | elapsed:   13.9s finished\n"
     ]
    },
    {
     "name": "stdout",
     "output_type": "stream",
     "text": [
      "Fitting 5 folds for each of 41 candidates, totalling 205 fits\n"
     ]
    },
    {
     "name": "stderr",
     "output_type": "stream",
     "text": [
      "[Parallel(n_jobs=-1)]: Using backend LokyBackend with 8 concurrent workers.\n",
      "[Parallel(n_jobs=-1)]: Done  52 tasks      | elapsed:    1.7s\n",
      "[Parallel(n_jobs=-1)]: Done 205 out of 205 | elapsed:   13.6s finished\n",
      "[Parallel(n_jobs=-1)]: Using backend LokyBackend with 8 concurrent workers.\n"
     ]
    },
    {
     "name": "stdout",
     "output_type": "stream",
     "text": [
      "Fitting 5 folds for each of 41 candidates, totalling 205 fits\n"
     ]
    },
    {
     "name": "stderr",
     "output_type": "stream",
     "text": [
      "[Parallel(n_jobs=-1)]: Done  53 tasks      | elapsed:    1.7s\n",
      "[Parallel(n_jobs=-1)]: Done 190 out of 205 | elapsed:   11.8s remaining:    0.9s\n",
      "[Parallel(n_jobs=-1)]: Done 205 out of 205 | elapsed:   12.8s finished\n",
      "[Parallel(n_jobs=-1)]: Using backend LokyBackend with 8 concurrent workers.\n"
     ]
    },
    {
     "name": "stdout",
     "output_type": "stream",
     "text": [
      "Fitting 5 folds for each of 41 candidates, totalling 205 fits\n"
     ]
    },
    {
     "name": "stderr",
     "output_type": "stream",
     "text": [
      "[Parallel(n_jobs=-1)]: Done  52 tasks      | elapsed:    1.8s\n",
      "[Parallel(n_jobs=-1)]: Done 190 out of 205 | elapsed:   12.7s remaining:    1.0s\n",
      "[Parallel(n_jobs=-1)]: Done 205 out of 205 | elapsed:   13.7s finished\n",
      "[Parallel(n_jobs=-1)]: Using backend LokyBackend with 8 concurrent workers.\n"
     ]
    },
    {
     "name": "stdout",
     "output_type": "stream",
     "text": [
      "Fitting 5 folds for each of 41 candidates, totalling 205 fits\n"
     ]
    },
    {
     "name": "stderr",
     "output_type": "stream",
     "text": [
      "[Parallel(n_jobs=-1)]: Done  53 tasks      | elapsed:    1.7s\n",
      "[Parallel(n_jobs=-1)]: Done 190 out of 205 | elapsed:   12.8s remaining:    1.0s\n",
      "[Parallel(n_jobs=-1)]: Done 205 out of 205 | elapsed:   13.8s finished\n"
     ]
    }
   ],
   "source": [
    "log_acc, log_auc, log_f1, log_train_acc, log_train_auc, log_train_f1 = LG_model(X, y)"
   ]
  },
  {
   "cell_type": "markdown",
   "metadata": {},
   "source": [
    "# Algorithm 2: KNN"
   ]
  },
  {
   "cell_type": "code",
   "execution_count": 13,
   "metadata": {},
   "outputs": [],
   "source": [
    "def KNN_model(X, y):\n",
    "    classifier = KNeighborsClassifier()\n",
    "    num_k = np.ceil(np.logspace(0, 2.7, 3)).astype(int)\n",
    "    \n",
    "    search_space = {'n_neighbors': num_k, \n",
    "                      'weights': ['uniform', 'distance']}\n",
    "\n",
    "    TRIALS = 5#DOING 5 TRIALS\n",
    "    acc_scores = []#saving the accuracy for each trial on test set\n",
    "    auc_scores = []#saving the roc auc for each trial on test set\n",
    "    f1_scores = []#saving the f1 score for each trial on test set\n",
    "    train_acc = []\n",
    "    train_auc = []\n",
    "    train_f1 = []\n",
    "    \n",
    "    for i in range(TRIALS):\n",
    "        #sampling 5000 training size for k-fold\n",
    "        X_train, X_test, y_train, y_test = train_test_split(X, y, train_size=5000)\n",
    "        \n",
    "        # Create grid search\n",
    "        clf = GridSearchCV(classifier, search_space, cv=StratifiedKFold(n_splits=5), \n",
    "                           scoring=['accuracy', 'roc_auc', 'f1'], refit=False,\n",
    "                           verbose=1, n_jobs=-1)\n",
    "        best_model = clf.fit(X_train, y_train)\n",
    "\n",
    "        #top 3 best params model parameters\n",
    "        model_acc = best_model.cv_results_['params'][np.argmin(best_model.cv_results_['rank_test_accuracy'])]\n",
    "        model_auc = best_model.cv_results_['params'][np.argmin(best_model.cv_results_['rank_test_roc_auc'])]\n",
    "        model_f1 = best_model.cv_results_['params'][np.argmin(best_model.cv_results_['rank_test_f1'])]\n",
    "\n",
    "        model_params = [model_acc, model_auc, model_f1]\n",
    "\n",
    "        #gets the scores for each model and append them to corresponding array\n",
    "        for index, params in enumerate(model_params):\n",
    "            k = params['n_neighbors']\n",
    "            weight = params['weights']\n",
    "\n",
    "            #training best models on validation set\n",
    "            KNN_model = KNeighborsClassifier()\n",
    "            KNN_model.set_params(n_neighbors=k, weights=weight)\n",
    "            KNN_model.fit(X_train, y_train)#training on 5000 points\n",
    "\n",
    "            #model == model_acc\n",
    "            if index == 0:\n",
    "                score = KNN_model.score(X_test, y_test)\n",
    "                acc_scores.append(score)\n",
    "                train_score = KNN_model.score(X_train, y_train)\n",
    "                train_acc.append(train_score)\n",
    "                \n",
    "            #model_auc\n",
    "            elif index == 1:\n",
    "                roc_score = roc_auc_score(y_test, KNN_model.predict_proba(X_test)[:, 1])\n",
    "                auc_scores.append(roc_score)\n",
    "                train_roc = roc_auc_score(y_train, KNN_model.predict_proba(X_train)[:, 1])\n",
    "                train_auc.append(train_roc)\n",
    "\n",
    "            #appending to f1\n",
    "            else:\n",
    "                y_predict = KNN_model.predict(X_test)#predictions on test set\n",
    "                f_score = f1_score(y_test, y_predict)\n",
    "                f1_scores.append(f_score)\n",
    "                f_train = f1_score(y_train, KNN_model.predict(X_train))\n",
    "                train_f1.append(f_train)\n",
    "    \n",
    "    return acc_scores, auc_scores, f1_scores, train_acc, train_auc, train_f1"
   ]
  },
  {
   "cell_type": "code",
   "execution_count": 14,
   "metadata": {},
   "outputs": [
    {
     "name": "stdout",
     "output_type": "stream",
     "text": [
      "Fitting 5 folds for each of 6 candidates, totalling 30 fits\n"
     ]
    },
    {
     "name": "stderr",
     "output_type": "stream",
     "text": [
      "[Parallel(n_jobs=-1)]: Using backend LokyBackend with 8 concurrent workers.\n",
      "[Parallel(n_jobs=-1)]: Done  30 out of  30 | elapsed:    1.3s finished\n"
     ]
    },
    {
     "name": "stdout",
     "output_type": "stream",
     "text": [
      "Fitting 5 folds for each of 6 candidates, totalling 30 fits\n"
     ]
    },
    {
     "name": "stderr",
     "output_type": "stream",
     "text": [
      "[Parallel(n_jobs=-1)]: Using backend LokyBackend with 8 concurrent workers.\n",
      "/Users/garvinmo/opt/anaconda3/lib/python3.8/site-packages/joblib/externals/loky/process_executor.py:688: UserWarning: A worker stopped while some jobs were given to the executor. This can be caused by a too short worker timeout or by a memory leak.\n",
      "  warnings.warn(\n",
      "[Parallel(n_jobs=-1)]: Done  30 out of  30 | elapsed:    2.8s finished\n"
     ]
    },
    {
     "name": "stdout",
     "output_type": "stream",
     "text": [
      "Fitting 5 folds for each of 6 candidates, totalling 30 fits\n"
     ]
    },
    {
     "name": "stderr",
     "output_type": "stream",
     "text": [
      "[Parallel(n_jobs=-1)]: Using backend LokyBackend with 8 concurrent workers.\n",
      "[Parallel(n_jobs=-1)]: Done  30 out of  30 | elapsed:    1.3s finished\n"
     ]
    },
    {
     "name": "stdout",
     "output_type": "stream",
     "text": [
      "Fitting 5 folds for each of 6 candidates, totalling 30 fits\n"
     ]
    },
    {
     "name": "stderr",
     "output_type": "stream",
     "text": [
      "[Parallel(n_jobs=-1)]: Using backend LokyBackend with 8 concurrent workers.\n",
      "[Parallel(n_jobs=-1)]: Done  30 out of  30 | elapsed:    1.4s finished\n"
     ]
    },
    {
     "name": "stdout",
     "output_type": "stream",
     "text": [
      "Fitting 5 folds for each of 6 candidates, totalling 30 fits\n"
     ]
    },
    {
     "name": "stderr",
     "output_type": "stream",
     "text": [
      "[Parallel(n_jobs=-1)]: Using backend LokyBackend with 8 concurrent workers.\n",
      "/Users/garvinmo/opt/anaconda3/lib/python3.8/site-packages/joblib/externals/loky/process_executor.py:688: UserWarning: A worker stopped while some jobs were given to the executor. This can be caused by a too short worker timeout or by a memory leak.\n",
      "  warnings.warn(\n",
      "[Parallel(n_jobs=-1)]: Done  30 out of  30 | elapsed:    1.7s finished\n"
     ]
    }
   ],
   "source": [
    "knn_acc, knn_auc, knn_f1, knn_train_acc, knn_train_auc, knn_train_f1 = KNN_model(X, y)"
   ]
  },
  {
   "cell_type": "markdown",
   "metadata": {},
   "source": [
    "# Algorithm 3: Random Forest"
   ]
  },
  {
   "cell_type": "code",
   "execution_count": 15,
   "metadata": {},
   "outputs": [],
   "source": [
    "def RF_model(X, y):\n",
    "    classifier = RandomForestClassifier()\n",
    "    max_features = [1, 2, 4, 6, 8, 12, 16, 20]\n",
    "    \n",
    "    for feature in max_features:\n",
    "        if feature > len(X.columns):\n",
    "            max_features.remove(feature)\n",
    "            \n",
    "    search_space = {'n_estimators': [1024], 'max_features': max_features}\n",
    "    \n",
    "    TRIALS = 5#DOING 5 TRIALS\n",
    "    acc_scores = []#saving the accuracy for each trial on test set\n",
    "    auc_scores = []#saving the roc auc for each trial on test set\n",
    "    f1_scores = []#saving the f1 score for each trial on test set\n",
    "    train_acc = []\n",
    "    train_auc = []\n",
    "    train_f1 = []\n",
    "    \n",
    "    for i in range(TRIALS):\n",
    "        #sampling 5000 training size for k-fold\n",
    "        X_train, X_test, y_train, y_test = train_test_split(X, y, train_size=5000)\n",
    "        \n",
    "        # Create grid search\n",
    "        clf = GridSearchCV(classifier, search_space, cv=StratifiedKFold(n_splits=5), \n",
    "                       scoring=['accuracy', 'roc_auc', 'f1'], refit=False,\n",
    "                       verbose=2, n_jobs=-1)\n",
    "        best_model = clf.fit(X_train, y_train)\n",
    "        \n",
    "        #top 3 best params model parameters\n",
    "        model_acc = best_model.cv_results_['params'][np.argmin(best_model.cv_results_['rank_test_accuracy'])]\n",
    "        model_auc = best_model.cv_results_['params'][np.argmin(best_model.cv_results_['rank_test_roc_auc'])]\n",
    "        model_f1 = best_model.cv_results_['params'][np.argmin(best_model.cv_results_['rank_test_f1'])]\n",
    "        \n",
    "        model_params = [model_acc, model_auc, model_f1]\n",
    "        \n",
    "        #gets the scores for each model and append them to corresponding array\n",
    "        for index, params in enumerate(model_params):\n",
    "            n_estimators = params['n_estimators']\n",
    "            max_features = params['max_features']\n",
    "            \n",
    "            #train once more on entire validation set\n",
    "            RF_model = RandomForestClassifier(n_estimators=n_estimators, \n",
    "                                                  max_features=max_features)\n",
    "            RF_model.fit(X_train, y_train)\n",
    "            \n",
    "            #scoring on test set using multiple metrics\n",
    "            #model == model_acc\n",
    "            if index == 0:\n",
    "                score = RF_model.score(X_test, y_test)\n",
    "                acc_scores.append(score)\n",
    "                train_score = RF_model.score(X_train, y_train)\n",
    "                train_acc.append(train_score)\n",
    "            \n",
    "            #model_auc\n",
    "            elif index == 1:\n",
    "                roc_score = roc_auc_score(y_test, RF_model.predict_proba(X_test)[:, 1])\n",
    "                auc_scores.append(roc_score)\n",
    "                train_roc = roc_auc_score(y_train, RF_model.predict_proba(X_train)[:, 1])\n",
    "                train_auc.append(train_roc)\n",
    "\n",
    "            #appending to f1\n",
    "            else:\n",
    "                y_predict = RF_model.predict(X_test)#predictions on test set\n",
    "                f_score = f1_score(y_test, y_predict)\n",
    "                f1_scores.append(f_score)\n",
    "                f_train = f1_score(y_train, RF_model.predict(X_train))\n",
    "                train_f1.append(f_train)\n",
    "                \n",
    "    return acc_scores, auc_scores, f1_scores, train_acc, train_auc, train_f1"
   ]
  },
  {
   "cell_type": "code",
   "execution_count": 16,
   "metadata": {},
   "outputs": [
    {
     "name": "stdout",
     "output_type": "stream",
     "text": [
      "Fitting 5 folds for each of 7 candidates, totalling 35 fits\n"
     ]
    },
    {
     "name": "stderr",
     "output_type": "stream",
     "text": [
      "[Parallel(n_jobs=-1)]: Using backend LokyBackend with 8 concurrent workers.\n",
      "/Users/garvinmo/opt/anaconda3/lib/python3.8/site-packages/joblib/externals/loky/process_executor.py:688: UserWarning: A worker stopped while some jobs were given to the executor. This can be caused by a too short worker timeout or by a memory leak.\n",
      "  warnings.warn(\n",
      "[Parallel(n_jobs=-1)]: Done  35 out of  35 | elapsed:   22.3s finished\n"
     ]
    },
    {
     "name": "stdout",
     "output_type": "stream",
     "text": [
      "Fitting 5 folds for each of 7 candidates, totalling 35 fits\n"
     ]
    },
    {
     "name": "stderr",
     "output_type": "stream",
     "text": [
      "[Parallel(n_jobs=-1)]: Using backend LokyBackend with 8 concurrent workers.\n",
      "[Parallel(n_jobs=-1)]: Done  35 out of  35 | elapsed:   22.2s finished\n"
     ]
    },
    {
     "name": "stdout",
     "output_type": "stream",
     "text": [
      "Fitting 5 folds for each of 7 candidates, totalling 35 fits\n"
     ]
    },
    {
     "name": "stderr",
     "output_type": "stream",
     "text": [
      "[Parallel(n_jobs=-1)]: Using backend LokyBackend with 8 concurrent workers.\n",
      "/Users/garvinmo/opt/anaconda3/lib/python3.8/site-packages/joblib/externals/loky/process_executor.py:688: UserWarning: A worker stopped while some jobs were given to the executor. This can be caused by a too short worker timeout or by a memory leak.\n",
      "  warnings.warn(\n",
      "[Parallel(n_jobs=-1)]: Done  35 out of  35 | elapsed:   21.0s finished\n"
     ]
    },
    {
     "name": "stdout",
     "output_type": "stream",
     "text": [
      "Fitting 5 folds for each of 7 candidates, totalling 35 fits\n"
     ]
    },
    {
     "name": "stderr",
     "output_type": "stream",
     "text": [
      "[Parallel(n_jobs=-1)]: Using backend LokyBackend with 8 concurrent workers.\n",
      "[Parallel(n_jobs=-1)]: Done  35 out of  35 | elapsed:   20.6s finished\n"
     ]
    },
    {
     "name": "stdout",
     "output_type": "stream",
     "text": [
      "Fitting 5 folds for each of 7 candidates, totalling 35 fits\n"
     ]
    },
    {
     "name": "stderr",
     "output_type": "stream",
     "text": [
      "[Parallel(n_jobs=-1)]: Using backend LokyBackend with 8 concurrent workers.\n",
      "[Parallel(n_jobs=-1)]: Done  35 out of  35 | elapsed:   23.2s finished\n"
     ]
    }
   ],
   "source": [
    "rf_acc, rf_auc, rf_f1, rftrain_acc, rftrain_auc, rftrain_f1= RF_model(X, y)"
   ]
  },
  {
   "cell_type": "markdown",
   "metadata": {},
   "source": [
    "# Results"
   ]
  },
  {
   "cell_type": "markdown",
   "metadata": {},
   "source": [
    "## Logistic Regression Results:"
   ]
  },
  {
   "cell_type": "code",
   "execution_count": 17,
   "metadata": {},
   "outputs": [
    {
     "name": "stdout",
     "output_type": "stream",
     "text": [
      "TEST SET PERFORMANCE:\n",
      "      Trial 1   Trial 2   Trial 3   Trial 4   Trial 5\n",
      "ACC  0.962331  0.963064  0.962064  0.961997  0.962331\n",
      "ROC  0.858444  0.859928  0.857098  0.862397  0.853068\n",
      "FSC  0.000000  0.000000  0.000000  0.000000  0.000000\n",
      "\n",
      "TRAIN SET PERFORMANCE:\n",
      "      Trial 1   Trial 2   Trial 3   Trial 4   Trial 5\n",
      "ACC  0.962400  0.960200  0.963200  0.963400  0.962400\n",
      "ROC  0.864321  0.879413  0.860877  0.867247  0.871137\n",
      "FSC  0.000000  0.000000  0.000000  0.000000  0.000000\n"
     ]
    }
   ],
   "source": [
    "print(\"\"\"TEST SET PERFORMANCE:\"\"\")\n",
    "scores = pd.DataFrame([log_acc, log_auc, log_f1], \n",
    "                     columns= [\"Trial 1\", \"Trial 2\", \"Trial 3\", \"Trial 4\", \"Trial 5\"])\n",
    "scores.rename(index={0: \"ACC\", 1: \"ROC\", 2: \"FSC\"}, inplace=True)\n",
    "print(scores)\n",
    "print()\n",
    "\n",
    "logt_scores = pd.DataFrame([log_train_acc, log_train_auc, log_train_f1], \n",
    "                     columns= [\"Trial 1\", \"Trial 2\", \"Trial 3\", \"Trial 4\", \"Trial 5\"])\n",
    "logt_scores.rename(index={0: \"ACC\", 1: \"ROC\", 2: \"FSC\"}, inplace=True)\n",
    "print(\"TRAIN SET PERFORMANCE:\")\n",
    "print(logt_scores)"
   ]
  },
  {
   "cell_type": "markdown",
   "metadata": {},
   "source": [
    "## KNN Results:"
   ]
  },
  {
   "cell_type": "code",
   "execution_count": 18,
   "metadata": {},
   "outputs": [
    {
     "name": "stdout",
     "output_type": "stream",
     "text": [
      "TEST SET PERFORMANCE:\n",
      "      Trial 1   Trial 2   Trial 3   Trial 4   Trial 5\n",
      "ACC  0.992133  0.989866  0.990933  0.991933  0.990733\n",
      "ROC  0.991464  0.994721  0.995173  0.994100  0.994624\n",
      "FSC  0.895760  0.865724  0.880282  0.893953  0.879654\n",
      "\n",
      "TRAIN SET PERFORMANCE:\n",
      "     Trial 1  Trial 2  Trial 3  Trial 4  Trial 5\n",
      "ACC      1.0      1.0      1.0      1.0      1.0\n",
      "ROC      1.0      1.0      1.0      1.0      1.0\n",
      "FSC      1.0      1.0      1.0      1.0      1.0\n"
     ]
    }
   ],
   "source": [
    "print(\"\"\"TEST SET PERFORMANCE:\"\"\")\n",
    "k_scores = pd.DataFrame([knn_acc, knn_auc, knn_f1], \n",
    "                     columns= [\"Trial 1\", \"Trial 2\", \"Trial 3\", \"Trial 4\", \"Trial 5\"])\n",
    "k_scores.rename(index={0: \"ACC\", 1: \"ROC\", 2: \"FSC\"}, inplace=True)\n",
    "print(k_scores)\n",
    "print()\n",
    "\n",
    "print(\"TRAIN SET PERFORMANCE:\")\n",
    "kt_scores = pd.DataFrame([knn_train_acc, knn_train_auc, knn_train_f1], \n",
    "                     columns= [\"Trial 1\", \"Trial 2\", \"Trial 3\", \"Trial 4\", \"Trial 5\"])\n",
    "kt_scores.rename(index={0: \"ACC\", 1: \"ROC\", 2: \"FSC\"}, inplace=True)\n",
    "print(kt_scores)"
   ]
  },
  {
   "cell_type": "markdown",
   "metadata": {},
   "source": [
    "## Random Forest Results:"
   ]
  },
  {
   "cell_type": "code",
   "execution_count": 19,
   "metadata": {},
   "outputs": [
    {
     "name": "stdout",
     "output_type": "stream",
     "text": [
      "TEST SET PERFORMANCE:\n",
      "      Trial 1   Trial 2   Trial 3   Trial 4   Trial 5\n",
      "ACC  0.988066  0.987799  0.987866  0.985666  0.988866\n",
      "ROC  0.997133  0.995457  0.997112  0.994531  0.997793\n",
      "FSC  0.814668  0.817374  0.818725  0.790650  0.828571\n",
      "\n",
      "TRAIN SET PERFORMANCE:\n",
      "     Trial 1  Trial 2  Trial 3  Trial 4  Trial 5\n",
      "ACC      1.0      1.0      1.0      1.0      1.0\n",
      "ROC      1.0      1.0      1.0      1.0      1.0\n",
      "FSC      1.0      1.0      1.0      1.0      1.0\n"
     ]
    }
   ],
   "source": [
    "print(\"TEST SET PERFORMANCE:\")\n",
    "rf_scores = pd.DataFrame([rf_acc, rf_auc, rf_f1], \n",
    "                     columns= [\"Trial 1\", \"Trial 2\", \"Trial 3\", \"Trial 4\", \"Trial 5\"])\n",
    "rf_scores.rename(index={0: \"ACC\", 1: \"ROC\", 2: \"FSC\"}, inplace=True)\n",
    "print(rf_scores)\n",
    "print()\n",
    "print(\"TRAIN SET PERFORMANCE:\")\n",
    "rft_scores = pd.DataFrame([rftrain_acc, rftrain_auc, rftrain_f1], \n",
    "                     columns= [\"Trial 1\", \"Trial 2\", \"Trial 3\", \"Trial 4\", \"Trial 5\"])\n",
    "rft_scores.rename(index={0: \"ACC\", 1: \"ROC\", 2: \"FSC\"}, inplace=True)\n",
    "print(rft_scores)"
   ]
  }
 ],
 "metadata": {
  "kernelspec": {
   "display_name": "Python 3",
   "language": "python",
   "name": "python3"
  },
  "language_info": {
   "codemirror_mode": {
    "name": "ipython",
    "version": 3
   },
   "file_extension": ".py",
   "mimetype": "text/x-python",
   "name": "python",
   "nbconvert_exporter": "python",
   "pygments_lexer": "ipython3",
   "version": "3.8.5"
  }
 },
 "nbformat": 4,
 "nbformat_minor": 4
}
